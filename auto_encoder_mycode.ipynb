{
  "nbformat": 4,
  "nbformat_minor": 0,
  "metadata": {
    "colab": {
      "provenance": [],
      "gpuType": "T4"
    },
    "kernelspec": {
      "name": "python3",
      "display_name": "Python 3"
    },
    "language_info": {
      "name": "python"
    },
    "accelerator": "GPU"
  },
  "cells": [
    {
      "cell_type": "code",
      "source": [
        "import os\n",
        "import numpy as np\n",
        "import matplotlib.pyplot as plt\n",
        "import tensorflow as tf\n",
        "from tensorflow.keras.layers import Input, Conv2D, MaxPooling2D, UpSampling2D\n",
        "from tensorflow.keras.models import Model\n",
        "from sklearn.model_selection import train_test_split\n",
        "import cv2\n",
        "from google.colab.patches import cv2_imshow\n",
        "from tqdm import tqdm\n",
        "from tensorflow.image import ssim\n"
      ],
      "metadata": {
        "id": "bUlgRpMUIF-j"
      },
      "execution_count": null,
      "outputs": []
    },
    {
      "cell_type": "code",
      "execution_count": null,
      "metadata": {
        "id": "9a6G2kbdHfFH"
      },
      "outputs": [],
      "source": [
        "root_path = '/content/drive/MyDrive/Colab Notebooks/CS583 Project/'"
      ]
    },
    {
      "cell_type": "code",
      "source": [
        "img_path = root_path + 'img_data'\n",
        "image_files = os.listdir(img_path)"
      ],
      "metadata": {
        "id": "r-bXkLuyJDeA"
      },
      "execution_count": null,
      "outputs": []
    },
    {
      "cell_type": "code",
      "source": [
        "len(image_files)"
      ],
      "metadata": {
        "colab": {
          "base_uri": "https://localhost:8080/"
        },
        "id": "K0rSsKb3JR9h",
        "outputId": "dfddd843-1262-4364-8909-1a7de7531c6a"
      },
      "execution_count": null,
      "outputs": [
        {
          "output_type": "execute_result",
          "data": {
            "text/plain": [
              "2460"
            ]
          },
          "metadata": {},
          "execution_count": 4
        }
      ]
    },
    {
      "cell_type": "code",
      "source": [
        "images_data = []\n",
        "for file_name in tqdm(image_files):\n",
        "  image_path = os.path.join(img_path, file_name)\n",
        "  image = cv2.imread(image_path)\n",
        "\n",
        "  #image = cv2.resize(image, (400, 200))\n",
        "  image = cv2.resize(image, (576, 288))\n",
        "  #image = cv2.resize(image, (80, 80))\n",
        "\n",
        "\n",
        "  grayscale_image = cv2.cvtColor(image, cv2.COLOR_BGR2GRAY)\n",
        "  thresholded_image = cv2.threshold(grayscale_image, 0, 255, cv2.THRESH_BINARY_INV + cv2.THRESH_OTSU)[1]\n",
        "  #thresholded_image = thresholded_image.astype('float32') / 255.0\n",
        "  image = np.expand_dims(thresholded_image, axis=-1)\n",
        "  images_data.append(image)"
      ],
      "metadata": {
        "colab": {
          "base_uri": "https://localhost:8080/"
        },
        "id": "hCyLIM-TIk8e",
        "outputId": "23d037e3-670b-4146-87db-3263daddd39b"
      },
      "execution_count": null,
      "outputs": [
        {
          "output_type": "stream",
          "name": "stderr",
          "text": [
            "100%|██████████| 2460/2460 [00:25<00:00, 96.65it/s] \n"
          ]
        }
      ]
    },
    {
      "cell_type": "code",
      "source": [
        "images_data = np.array(images_data)"
      ],
      "metadata": {
        "id": "R1takq39Oic0"
      },
      "execution_count": null,
      "outputs": []
    },
    {
      "cell_type": "code",
      "source": [
        "np.save(root_path+'images_data_400_200.npy', images_data) # save"
      ],
      "metadata": {
        "id": "IIHSFhLvEyyz"
      },
      "execution_count": null,
      "outputs": []
    },
    {
      "cell_type": "code",
      "source": [
        "images_data = np.load(root_path+'images_data_400_200.npy') #load"
      ],
      "metadata": {
        "id": "b_FrWSnREz3p"
      },
      "execution_count": null,
      "outputs": []
    },
    {
      "cell_type": "code",
      "source": [
        "images_data.shape"
      ],
      "metadata": {
        "colab": {
          "base_uri": "https://localhost:8080/"
        },
        "id": "8FERZpxNR0V7",
        "outputId": "d3eee950-d97c-430c-d20f-de9cc9d4083a"
      },
      "execution_count": null,
      "outputs": [
        {
          "output_type": "execute_result",
          "data": {
            "text/plain": [
              "(2460, 288, 576, 1)"
            ]
          },
          "metadata": {},
          "execution_count": 7
        }
      ]
    },
    {
      "cell_type": "code",
      "source": [
        "np.unique(images_data[0])"
      ],
      "metadata": {
        "colab": {
          "base_uri": "https://localhost:8080/"
        },
        "id": "6l3mrYJAA67b",
        "outputId": "9d5615c4-2502-4c05-988c-177f820064ef"
      },
      "execution_count": null,
      "outputs": [
        {
          "output_type": "execute_result",
          "data": {
            "text/plain": [
              "array([  0, 255], dtype=uint8)"
            ]
          },
          "metadata": {},
          "execution_count": 8
        }
      ]
    },
    {
      "cell_type": "markdown",
      "source": [
        "### Model"
      ],
      "metadata": {
        "id": "gJias_eAPi-r"
      }
    },
    {
      "cell_type": "code",
      "source": [
        "input_img = Input(shape=(288, 576, 1))"
      ],
      "metadata": {
        "id": "JrK_PhOHPkJY"
      },
      "execution_count": null,
      "outputs": []
    },
    {
      "cell_type": "code",
      "source": [
        "# Encoder\n",
        "x = Conv2D(32, (3, 3), activation='relu', padding='same')(input_img)\n",
        "x = MaxPooling2D((2, 2), padding='same')(x)\n",
        "x = Conv2D(64, (3, 3), activation='relu', padding='same')(x)\n",
        "x = MaxPooling2D((2, 2), padding='same')(x)\n",
        "x = Conv2D(128, (3, 3), activation='relu', padding='same')(x)\n",
        "encoded = MaxPooling2D((2, 2), padding='same')(x)\n",
        "\n",
        "# Decoder\n",
        "x = Conv2D(128, (3, 3), activation='relu', padding='same')(encoded)\n",
        "x = UpSampling2D((2, 2))(x)\n",
        "x = Conv2D(64, (3, 3), activation='relu', padding='same')(x)\n",
        "x = UpSampling2D((2, 2))(x)\n",
        "x = Conv2D(32, (3, 3), activation='relu', padding='same')(x)\n",
        "x = UpSampling2D((2, 2))(x)\n",
        "decoded = Conv2D(1, (3, 3), activation='sigmoid', padding='same')(x)  # Output has 1 channel for grayscale image\n"
      ],
      "metadata": {
        "id": "sQ2PWExuPpP-"
      },
      "execution_count": null,
      "outputs": []
    },
    {
      "cell_type": "code",
      "source": [
        "import tensorflow as tf\n",
        "\n",
        "# Custom loss function to compare dot positions in columns\n",
        "def column_dot_position_loss(y_true, y_pred):\n",
        "    y_true = tf.image.convert_image_dtype(y_true, tf.float32)\n",
        "    y_pred = tf.image.convert_image_dtype(y_pred, tf.float32)\n",
        "\n",
        "    # Flatten the input images\n",
        "    y_true_flat = tf.keras.backend.batch_flatten(y_true)\n",
        "    y_pred_flat = tf.keras.backend.batch_flatten(y_pred)\n",
        "\n",
        "    # Reshape the flattened images to get column-wise dot positions\n",
        "    true_cols = tf.reduce_sum(y_true_flat, axis=0)  # Sum along columns\n",
        "    pred_cols = tf.reduce_sum(y_pred_flat, axis=0)\n",
        "\n",
        "    # Calculate the absolute difference between dot positions\n",
        "    dot_position_diff = tf.abs(true_cols - pred_cols)\n",
        "\n",
        "    # Define a threshold for correct dot position\n",
        "    threshold = 0  # Adjust as needed\n",
        "\n",
        "    # Apply heavy penalty for incorrect dot positions\n",
        "    loss = tf.reduce_sum(tf.nn.relu(dot_position_diff - threshold))\n",
        "\n",
        "    return loss\n",
        "\n",
        "# Example usage:\n",
        "# Assuming y_true and y_pred are the true and predicted images respectively\n",
        "# (batch_size, height, width, channels)\n",
        "# Ensure your images are normalized (e.g., range [0, 1])\n",
        "\n",
        "#loss = column_dot_position_loss(y_true, y_pred)\n"
      ],
      "metadata": {
        "id": "WlpcSk3Rq1H4"
      },
      "execution_count": null,
      "outputs": []
    },
    {
      "cell_type": "code",
      "source": [
        "autoencoder = Model(input_img, decoded)\n",
        "#autoencoder.compile(optimizer='adam', loss='binary_crossentropy')\n",
        "autoencoder.compile(optimizer='adam', loss=column_dot_position_loss)"
      ],
      "metadata": {
        "id": "bmt-RCN-PzPe"
      },
      "execution_count": null,
      "outputs": []
    },
    {
      "cell_type": "code",
      "source": [
        "autoencoder.summary()\n"
      ],
      "metadata": {
        "colab": {
          "base_uri": "https://localhost:8080/"
        },
        "id": "4lSKAKsRPyCI",
        "outputId": "c14aab74-7333-4eec-f2fe-bd8f51cef672"
      },
      "execution_count": null,
      "outputs": [
        {
          "output_type": "stream",
          "name": "stdout",
          "text": [
            "Model: \"model\"\n",
            "_________________________________________________________________\n",
            " Layer (type)                Output Shape              Param #   \n",
            "=================================================================\n",
            " input_1 (InputLayer)        [(None, 288, 576, 1)]     0         \n",
            "                                                                 \n",
            " conv2d (Conv2D)             (None, 288, 576, 32)      320       \n",
            "                                                                 \n",
            " max_pooling2d (MaxPooling2  (None, 144, 288, 32)      0         \n",
            " D)                                                              \n",
            "                                                                 \n",
            " conv2d_1 (Conv2D)           (None, 144, 288, 64)      18496     \n",
            "                                                                 \n",
            " max_pooling2d_1 (MaxPoolin  (None, 72, 144, 64)       0         \n",
            " g2D)                                                            \n",
            "                                                                 \n",
            " conv2d_2 (Conv2D)           (None, 72, 144, 128)      73856     \n",
            "                                                                 \n",
            " max_pooling2d_2 (MaxPoolin  (None, 36, 72, 128)       0         \n",
            " g2D)                                                            \n",
            "                                                                 \n",
            " conv2d_3 (Conv2D)           (None, 36, 72, 128)       147584    \n",
            "                                                                 \n",
            " up_sampling2d (UpSampling2  (None, 72, 144, 128)      0         \n",
            " D)                                                              \n",
            "                                                                 \n",
            " conv2d_4 (Conv2D)           (None, 72, 144, 64)       73792     \n",
            "                                                                 \n",
            " up_sampling2d_1 (UpSamplin  (None, 144, 288, 64)      0         \n",
            " g2D)                                                            \n",
            "                                                                 \n",
            " conv2d_5 (Conv2D)           (None, 144, 288, 32)      18464     \n",
            "                                                                 \n",
            " up_sampling2d_2 (UpSamplin  (None, 288, 576, 32)      0         \n",
            " g2D)                                                            \n",
            "                                                                 \n",
            " conv2d_6 (Conv2D)           (None, 288, 576, 1)       289       \n",
            "                                                                 \n",
            "=================================================================\n",
            "Total params: 332801 (1.27 MB)\n",
            "Trainable params: 332801 (1.27 MB)\n",
            "Non-trainable params: 0 (0.00 Byte)\n",
            "_________________________________________________________________\n"
          ]
        }
      ]
    },
    {
      "cell_type": "code",
      "source": [
        "history = autoencoder.fit(images_data, images_data,\n",
        "                epochs=10,\n",
        "                batch_size=32,\n",
        "                shuffle=True,\n",
        "                validation_data=(images_data[:400], images_data[:400]))\n"
      ],
      "metadata": {
        "colab": {
          "base_uri": "https://localhost:8080/"
        },
        "id": "HQVuRxIwQB7-",
        "outputId": "9829d62a-1db7-4856-9a19-18ecbb66a66d"
      },
      "execution_count": null,
      "outputs": [
        {
          "output_type": "stream",
          "name": "stdout",
          "text": [
            "Epoch 1/10\n",
            "77/77 [==============================] - 42s 386ms/step - loss: 218282.1719 - val_loss: 66357.3281\n",
            "Epoch 2/10\n",
            "77/77 [==============================] - 22s 286ms/step - loss: 65483.3125 - val_loss: 66357.3281\n",
            "Epoch 3/10\n",
            "77/77 [==============================] - 22s 292ms/step - loss: 65479.6406 - val_loss: 66357.3281\n",
            "Epoch 4/10\n",
            "77/77 [==============================] - 23s 297ms/step - loss: 65477.8164 - val_loss: 66357.3281\n",
            "Epoch 5/10\n",
            "77/77 [==============================] - 23s 299ms/step - loss: 65475.9023 - val_loss: 66357.3281\n",
            "Epoch 6/10\n",
            "77/77 [==============================] - 23s 296ms/step - loss: 65477.6016 - val_loss: 66357.3281\n",
            "Epoch 7/10\n",
            "77/77 [==============================] - 23s 295ms/step - loss: 65474.2891 - val_loss: 66357.3281\n",
            "Epoch 8/10\n",
            "77/77 [==============================] - 23s 298ms/step - loss: 65484.9180 - val_loss: 66357.3281\n",
            "Epoch 9/10\n",
            "77/77 [==============================] - 23s 297ms/step - loss: 65484.5000 - val_loss: 66357.3281\n",
            "Epoch 10/10\n",
            "77/77 [==============================] - 23s 299ms/step - loss: 65476.6328 - val_loss: 66357.3281\n"
          ]
        }
      ]
    },
    {
      "cell_type": "code",
      "source": [
        "plt.plot(history.history['loss'], label='Training Loss')\n",
        "plt.plot(history.history['val_loss'], label='Validation Loss')\n",
        "plt.title('Training and Validation Loss')\n",
        "plt.xlabel('Epochs')\n",
        "plt.ylabel('Loss')\n",
        "plt.legend()\n",
        "plt.show()"
      ],
      "metadata": {
        "colab": {
          "base_uri": "https://localhost:8080/",
          "height": 472
        },
        "id": "ZU0cYlf7S856",
        "outputId": "45fb14c5-af0c-4fc5-bf6b-8952722309fc"
      },
      "execution_count": null,
      "outputs": [
        {
          "output_type": "display_data",
          "data": {
            "text/plain": [
              "<Figure size 640x480 with 1 Axes>"
            ],
            "image/png": "[encoded data removed]"
          },
          "metadata": {}
        }
      ]
    },
    {
      "cell_type": "code",
      "source": [
        "for i in range(5):\n",
        "  reconstructed_images = autoencoder.predict(np.expand_dims(images_data[i],0))\n",
        "  cv2_imshow(reconstructed_images[0])\n"
      ],
      "metadata": {
        "id": "fCvBwIAOV2jq",
        "colab": {
          "base_uri": "https://localhost:8080/",
          "height": 1000
        },
        "outputId": "8776e70a-daf5-4c9c-bda6-1d8761b465dd"
      },
      "execution_count": null,
      "outputs": [
        {
          "output_type": "stream",
          "name": "stdout",
          "text": [
            "1/1 [==============================] - 1s 520ms/step\n"
          ]
        },
        {
          "output_type": "display_data",
          "data": {
            "text/plain": [
              "<PIL.Image.Image image mode=RGB size=576x288>"
            ],
            "image/png": "[encoded data removed]"
          },
          "metadata": {}
        },
        {
          "output_type": "stream",
          "name": "stdout",
          "text": [
            "1/1 [==============================] - 0s 33ms/step\n"
          ]
        },
        {
          "output_type": "display_data",
          "data": {
            "text/plain": [
              "<PIL.Image.Image image mode=RGB size=576x288>"
            ],
            "image/png": "[encoded data removed]"
          },
          "metadata": {}
        },
        {
          "output_type": "stream",
          "name": "stdout",
          "text": [
            "1/1 [==============================] - 0s 29ms/step\n"
          ]
        },
        {
          "output_type": "display_data",
          "data": {
            "text/plain": [
              "<PIL.Image.Image image mode=RGB size=576x288>"
            ],
            "image/png": "[encoded data removed]"
          },
          "metadata": {}
        },
        {
          "output_type": "stream",
          "name": "stdout",
          "text": [
            "1/1 [==============================] - 0s 26ms/step\n"
          ]
        },
        {
          "output_type": "display_data",
          "data": {
            "text/plain": [
              "<PIL.Image.Image image mode=RGB size=576x288>"
            ],
            "image/png": "[encoded data removed]"
          },
          "metadata": {}
        },
        {
          "output_type": "stream",
          "name": "stdout",
          "text": [
            "1/1 [==============================] - 0s 25ms/step\n"
          ]
        },
        {
          "output_type": "display_data",
          "data": {
            "text/plain": [
              "<PIL.Image.Image image mode=RGB size=576x288>"
            ],
            "image/png": "[encoded data removed]"
          },
          "metadata": {}
        }
      ]
    },
    {
      "cell_type": "code",
      "source": [
        "i=200\n",
        "reconstructed_images = autoencoder.predict(np.expand_dims(images_data[i],0))\n",
        "cv2_imshow(reconstructed_images[0])"
      ],
      "metadata": {
        "id": "lxdHeoPoWCSv"
      },
      "execution_count": null,
      "outputs": []
    },
    {
      "cell_type": "code",
      "source": [],
      "metadata": {
        "id": "MVyB94yIWPXE"
      },
      "execution_count": null,
      "outputs": []
    },
    {
      "cell_type": "markdown",
      "source": [
        "### Model 2"
      ],
      "metadata": {
        "id": "oGjKxHPG7SUE"
      }
    },
    {
      "cell_type": "code",
      "source": [
        "import tensorflow as tf\n",
        "from tensorflow.keras import layers, Model\n",
        "\n",
        "# Encoder Network\n",
        "input_img = tf.keras.Input(shape=(200, 400, 1))\n",
        "\n",
        "# Define encoder layers\n",
        "x = layers.Conv2D(128, (5, 5), strides=2, padding='same')(input_img)\n",
        "x = layers.BatchNormalization()(x)\n",
        "x = layers.ReLU()(x)\n",
        "\n",
        "x = layers.Conv2D(256, (5, 5), strides=2, padding='same')(x)\n",
        "x = layers.BatchNormalization()(x)\n",
        "x = layers.ReLU()(x)\n",
        "\n",
        "x = layers.Conv2D(512, (5, 5), strides=2, padding='same')(x)\n",
        "x = layers.BatchNormalization()(x)\n",
        "x = layers.ReLU()(x)\n",
        "\n",
        "# Flatten before the fully connected layer\n",
        "x = layers.Flatten()(x)\n",
        "encoded = layers.Dense(512, activation='relu')(x)\n",
        "\n",
        "encoder = Model(input_img, encoded, name='encoder')\n",
        "\n",
        "# Decoder Network\n",
        "encoded_input = tf.keras.Input(shape=(512,))\n",
        "x = layers.Dense(25*50*512, activation='relu')(encoded_input)\n",
        "x = layers.Reshape((25, 50, 512))(x)\n",
        "\n",
        "# Define decoder layers\n",
        "x = layers.Conv2DTranspose(512, (5, 5), strides=2, padding='same')(x)\n",
        "x = layers.BatchNormalization()(x)\n",
        "x = layers.ReLU()(x)\n",
        "\n",
        "x = layers.Conv2DTranspose(256, (5, 5), strides=2, padding='same')(x)\n",
        "x = layers.BatchNormalization()(x)\n",
        "x = layers.ReLU()(x)\n",
        "\n",
        "x = layers.Conv2DTranspose(128, (5, 5), strides=2, padding='same')(x)\n",
        "x = layers.BatchNormalization()(x)\n",
        "x = layers.ReLU()(x)\n",
        "\n",
        "decoded = layers.Conv2D(1, (5, 5), activation='sigmoid', padding='same')(x)\n",
        "\n",
        "decoder = Model(encoded_input, decoded, name='decoder')\n",
        "\n",
        "# Autoencoder = Encoder + Decoder\n",
        "encoded_img = encoder(input_img)\n",
        "decoded_img = decoder(encoded_img)\n",
        "autoencoder = Model(input_img, decoded_img, name='autoencoder')\n",
        "\n",
        "\n"
      ],
      "metadata": {
        "id": "a-l7kYbB7TOO"
      },
      "execution_count": null,
      "outputs": []
    },
    {
      "cell_type": "code",
      "source": [
        "def custom_loss(y_true, y_pred):\n",
        "    y_true = tf.image.convert_image_dtype(y_true, tf.float32)\n",
        "    y_pred = tf.image.convert_image_dtype(y_pred, tf.float32)\n",
        "\n",
        "    mse = tf.keras.losses.mean_squared_error(y_true, y_pred)\n",
        "    ssim_loss = 1 - tf.reduce_mean(ssim(y_true, y_pred, max_val=1.0))\n",
        "\n",
        "    alpha = 0.5  # Weight for MSE, you can adjust this balance\n",
        "    return (alpha * mse) + ((1 - alpha) * ssim_loss)\n",
        "\n",
        "\n"
      ],
      "metadata": {
        "id": "AirzzKHlC2Wu"
      },
      "execution_count": null,
      "outputs": []
    },
    {
      "cell_type": "code",
      "source": [
        "import tensorflow as tf\n",
        "\n",
        "# Custom loss function to compare dot positions in columns\n",
        "def column_dot_position_loss(y_true, y_pred):\n",
        "    y_true = tf.image.convert_image_dtype(y_true, tf.float32)\n",
        "    y_pred = tf.image.convert_image_dtype(y_pred, tf.float32)\n",
        "\n",
        "    # Flatten the input images\n",
        "    y_true_flat = tf.keras.backend.batch_flatten(y_true)\n",
        "    y_pred_flat = tf.keras.backend.batch_flatten(y_pred)\n",
        "\n",
        "    # Reshape the flattened images to get column-wise dot positions\n",
        "    true_cols = tf.reduce_sum(y_true_flat, axis=0)  # Sum along columns\n",
        "    pred_cols = tf.reduce_sum(y_pred_flat, axis=0)\n",
        "\n",
        "    # Calculate the absolute difference between dot positions\n",
        "    dot_position_diff = tf.abs(true_cols - pred_cols)\n",
        "\n",
        "    # Define a threshold for correct dot position\n",
        "    threshold = 0  # Adjust as needed\n",
        "\n",
        "    # Apply heavy penalty for incorrect dot positions\n",
        "    loss = tf.reduce_sum(tf.nn.relu(dot_position_diff - threshold))\n",
        "\n",
        "    return loss\n",
        "\n",
        "# Example usage:\n",
        "# Assuming y_true and y_pred are the true and predicted images respectively\n",
        "# (batch_size, height, width, channels)\n",
        "# Ensure your images are normalized (e.g., range [0, 1])\n",
        "\n",
        "#loss = column_dot_position_loss(y_true, y_pred)\n"
      ],
      "metadata": {
        "id": "aG5sZKCHms8A"
      },
      "execution_count": null,
      "outputs": []
    },
    {
      "cell_type": "code",
      "source": [
        "autoencoder.compile(optimizer='adam', loss=column_dot_position_loss)  # Compile the autoencoder with appropriate loss\n"
      ],
      "metadata": {
        "id": "m2eyBZZHC4J6"
      },
      "execution_count": null,
      "outputs": []
    },
    {
      "cell_type": "code",
      "source": [
        "# Print the summary of the autoencoder\n",
        "autoencoder.summary()"
      ],
      "metadata": {
        "colab": {
          "base_uri": "https://localhost:8080/"
        },
        "id": "Lh3vpJKHC5P1",
        "outputId": "b5a8782d-09ce-40ba-cdcb-a65cb3ccb034"
      },
      "execution_count": null,
      "outputs": [
        {
          "output_type": "stream",
          "name": "stdout",
          "text": [
            "Model: \"autoencoder\"\n",
            "_________________________________________________________________\n",
            " Layer (type)                Output Shape              Param #   \n",
            "=================================================================\n",
            " input_1 (InputLayer)        [(None, 200, 400, 1)]     0         \n",
            "                                                                 \n",
            " encoder (Functional)        (None, 512)               331784192 \n",
            "                                                                 \n",
            " decoder (Functional)        (None, 200, 400, 1)       338977281 \n",
            "                                                                 \n",
            "=================================================================\n",
            "Total params: 670761473 (2.50 GB)\n",
            "Trainable params: 670757889 (2.50 GB)\n",
            "Non-trainable params: 3584 (14.00 KB)\n",
            "_________________________________________________________________\n"
          ]
        }
      ]
    },
    {
      "cell_type": "code",
      "source": [
        "encoder.summary()"
      ],
      "metadata": {
        "id": "ZXUGKZ1491vD"
      },
      "execution_count": null,
      "outputs": []
    },
    {
      "cell_type": "code",
      "source": [
        "decoder.summary()"
      ],
      "metadata": {
        "id": "BX5MW8wX9zZ7"
      },
      "execution_count": null,
      "outputs": []
    },
    {
      "cell_type": "code",
      "source": [
        "history = autoencoder.fit(images_data, images_data,\n",
        "                epochs=10,\n",
        "                batch_size=2,\n",
        "                shuffle=True,\n",
        "                validation_data=(images_data[:400], images_data[:400]))\n"
      ],
      "metadata": {
        "id": "9DQ20KZ78VNh",
        "colab": {
          "base_uri": "https://localhost:8080/",
          "height": 1000
        },
        "outputId": "93c14914-1463-4273-df30-3e1577e44a87"
      },
      "execution_count": null,
      "outputs": [
        {
          "output_type": "stream",
          "name": "stdout",
          "text": [
            "Epoch 1/10\n"
          ]
        },
        {
          "output_type": "error",
          "ename": "ResourceExhaustedError",
          "evalue": "ignored",
          "traceback": [
            "\u001b[0;31m---------------------------------------------------------------------------\u001b[0m",
            "\u001b[0;31mResourceExhaustedError\u001b[0m                    Traceback (most recent call last)",
            "\u001b[0;32m<ipython-input-12-2457fc8b0863>\u001b[0m in \u001b[0;36m<cell line: 1>\u001b[0;34m()\u001b[0m\n\u001b[0;32m----> 1\u001b[0;31m history = autoencoder.fit(images_data, images_data,\n\u001b[0m\u001b[1;32m      2\u001b[0m                 \u001b[0mepochs\u001b[0m\u001b[0;34m=\u001b[0m\u001b[0;36m10\u001b[0m\u001b[0;34m,\u001b[0m\u001b[0;34m\u001b[0m\u001b[0;34m\u001b[0m\u001b[0m\n\u001b[1;32m      3\u001b[0m                 \u001b[0mbatch_size\u001b[0m\u001b[0;34m=\u001b[0m\u001b[0;36m2\u001b[0m\u001b[0;34m,\u001b[0m\u001b[0;34m\u001b[0m\u001b[0;34m\u001b[0m\u001b[0m\n\u001b[1;32m      4\u001b[0m                 \u001b[0mshuffle\u001b[0m\u001b[0;34m=\u001b[0m\u001b[0;32mTrue\u001b[0m\u001b[0;34m,\u001b[0m\u001b[0;34m\u001b[0m\u001b[0;34m\u001b[0m\u001b[0m\n\u001b[1;32m      5\u001b[0m                 validation_data=(images_data[:400], images_data[:400]))\n",
            "\u001b[0;32m/usr/local/lib/python3.10/dist-packages/keras/src/utils/traceback_utils.py\u001b[0m in \u001b[0;36merror_handler\u001b[0;34m(*args, **kwargs)\u001b[0m\n\u001b[1;32m     68\u001b[0m             \u001b[0;31m# To get the full stack trace, call:\u001b[0m\u001b[0;34m\u001b[0m\u001b[0;34m\u001b[0m\u001b[0m\n\u001b[1;32m     69\u001b[0m             \u001b[0;31m# `tf.debugging.disable_traceback_filtering()`\u001b[0m\u001b[0;34m\u001b[0m\u001b[0;34m\u001b[0m\u001b[0m\n\u001b[0;32m---> 70\u001b[0;31m             \u001b[0;32mraise\u001b[0m \u001b[0me\u001b[0m\u001b[0;34m.\u001b[0m\u001b[0mwith_traceback\u001b[0m\u001b[0;34m(\u001b[0m\u001b[0mfiltered_tb\u001b[0m\u001b[0;34m)\u001b[0m \u001b[0;32mfrom\u001b[0m \u001b[0;32mNone\u001b[0m\u001b[0;34m\u001b[0m\u001b[0;34m\u001b[0m\u001b[0m\n\u001b[0m\u001b[1;32m     71\u001b[0m         \u001b[0;32mfinally\u001b[0m\u001b[0;34m:\u001b[0m\u001b[0;34m\u001b[0m\u001b[0;34m\u001b[0m\u001b[0m\n\u001b[1;32m     72\u001b[0m             \u001b[0;32mdel\u001b[0m \u001b[0mfiltered_tb\u001b[0m\u001b[0;34m\u001b[0m\u001b[0;34m\u001b[0m\u001b[0m\n",
            "\u001b[0;32m/usr/local/lib/python3.10/dist-packages/tensorflow/python/eager/execute.py\u001b[0m in \u001b[0;36mquick_execute\u001b[0;34m(op_name, num_outputs, inputs, attrs, ctx, name)\u001b[0m\n\u001b[1;32m     58\u001b[0m         \u001b[0;32mfor\u001b[0m \u001b[0mt\u001b[0m \u001b[0;32min\u001b[0m \u001b[0minputs\u001b[0m\u001b[0;34m\u001b[0m\u001b[0;34m\u001b[0m\u001b[0m\n\u001b[1;32m     59\u001b[0m     ]\n\u001b[0;32m---> 60\u001b[0;31m     tensors = pywrap_tfe.TFE_Py_Execute(ctx._handle, device_name, op_name,\n\u001b[0m\u001b[1;32m     61\u001b[0m                                         inputs, attrs, num_outputs)\n\u001b[1;32m     62\u001b[0m   \u001b[0;32mexcept\u001b[0m \u001b[0mcore\u001b[0m\u001b[0;34m.\u001b[0m\u001b[0m_NotOkStatusException\u001b[0m \u001b[0;32mas\u001b[0m \u001b[0me\u001b[0m\u001b[0;34m:\u001b[0m\u001b[0;34m\u001b[0m\u001b[0;34m\u001b[0m\u001b[0m\n",
            "\u001b[0;31mResourceExhaustedError\u001b[0m: Graph execution error:\n\nDetected at node Adam/StatefulPartitionedCall_14 defined at (most recent call last):\n  File \"/usr/lib/python3.10/runpy.py\", line 196, in _run_module_as_main\n\n  File \"/usr/lib/python3.10/runpy.py\", line 86, in _run_code\n\n  File \"/usr/local/lib/python3.10/dist-packages/colab_kernel_launcher.py\", line 37, in <module>\n\n  File \"/usr/local/lib/python3.10/dist-packages/traitlets/config/application.py\", line 992, in launch_instance\n\n  File \"/usr/local/lib/python3.10/dist-packages/ipykernel/kernelapp.py\", line 619, in start\n\n  File \"/usr/local/lib/python3.10/dist-packages/tornado/platform/asyncio.py\", line 195, in start\n\n  File \"/usr/lib/python3.10/asyncio/base_events.py\", line 603, in run_forever\n\n  File \"/usr/lib/python3.10/asyncio/base_events.py\", line 1909, in _run_once\n\n  File \"/usr/lib/python3.10/asyncio/events.py\", line 80, in _run\n\n  File \"/usr/local/lib/python3.10/dist-packages/tornado/ioloop.py\", line 685, in <lambda>\n\n  File \"/usr/local/lib/python3.10/dist-packages/tornado/ioloop.py\", line 738, in _run_callback\n\n  File \"/usr/local/lib/python3.10/dist-packages/tornado/gen.py\", line 825, in inner\n\n  File \"/usr/local/lib/python3.10/dist-packages/tornado/gen.py\", line 786, in run\n\n  File \"/usr/local/lib/python3.10/dist-packages/ipykernel/kernelbase.py\", line 361, in process_one\n\n  File \"/usr/local/lib/python3.10/dist-packages/tornado/gen.py\", line 234, in wrapper\n\n  File \"/usr/local/lib/python3.10/dist-packages/ipykernel/kernelbase.py\", line 261, in dispatch_shell\n\n  File \"/usr/local/lib/python3.10/dist-packages/tornado/gen.py\", line 234, in wrapper\n\n  File \"/usr/local/lib/python3.10/dist-packages/ipykernel/kernelbase.py\", line 539, in execute_request\n\n  File \"/usr/local/lib/python3.10/dist-packages/tornado/gen.py\", line 234, in wrapper\n\n  File \"/usr/local/lib/python3.10/dist-packages/ipykernel/ipkernel.py\", line 302, in do_execute\n\n  File \"/usr/local/lib/python3.10/dist-packages/ipykernel/zmqshell.py\", line 539, in run_cell\n\n  File \"/usr/local/lib/python3.10/dist-packages/IPython/core/interactiveshell.py\", line 2975, in run_cell\n\n  File \"/usr/local/lib/python3.10/dist-packages/IPython/core/interactiveshell.py\", line 3030, in _run_cell\n\n  File \"/usr/local/lib/python3.10/dist-packages/IPython/core/async_helpers.py\", line 78, in _pseudo_sync_runner\n\n  File \"/usr/local/lib/python3.10/dist-packages/IPython/core/interactiveshell.py\", line 3257, in run_cell_async\n\n  File \"/usr/local/lib/python3.10/dist-packages/IPython/core/interactiveshell.py\", line 3473, in run_ast_nodes\n\n  File \"/usr/local/lib/python3.10/dist-packages/IPython/core/interactiveshell.py\", line 3553, in run_code\n\n  File \"<ipython-input-12-2457fc8b0863>\", line 1, in <cell line: 1>\n\n  File \"/usr/local/lib/python3.10/dist-packages/keras/src/utils/traceback_utils.py\", line 65, in error_handler\n\n  File \"/usr/local/lib/python3.10/dist-packages/keras/src/engine/training.py\", line 1783, in fit\n\n  File \"/usr/local/lib/python3.10/dist-packages/keras/src/engine/training.py\", line 1377, in train_function\n\n  File \"/usr/local/lib/python3.10/dist-packages/keras/src/engine/training.py\", line 1360, in step_function\n\n  File \"/usr/local/lib/python3.10/dist-packages/keras/src/engine/training.py\", line 1349, in run_step\n\n  File \"/usr/local/lib/python3.10/dist-packages/keras/src/engine/training.py\", line 1130, in train_step\n\n  File \"/usr/local/lib/python3.10/dist-packages/keras/src/optimizers/optimizer.py\", line 544, in minimize\n\n  File \"/usr/local/lib/python3.10/dist-packages/keras/src/optimizers/optimizer.py\", line 1223, in apply_gradients\n\n  File \"/usr/local/lib/python3.10/dist-packages/keras/src/optimizers/optimizer.py\", line 652, in apply_gradients\n\n  File \"/usr/local/lib/python3.10/dist-packages/keras/src/optimizers/optimizer.py\", line 1253, in _internal_apply_gradients\n\n  File \"/usr/local/lib/python3.10/dist-packages/keras/src/optimizers/optimizer.py\", line 1345, in _distributed_apply_gradients_fn\n\n  File \"/usr/local/lib/python3.10/dist-packages/keras/src/optimizers/optimizer.py\", line 1340, in apply_grad_to_update_var\n\nOut of memory while trying to allocate 2621440132 bytes.\nBufferAssignment OOM Debugging.\nBufferAssignment stats:\n             parameter allocation:    4.88GiB\n              constant allocation:         0B\n        maybe_live_out allocation:    3.66GiB\n     preallocated temp allocation:    2.44GiB\n  preallocated temp fragmentation:       124B (0.00%)\n                 total allocation:    7.32GiB\nPeak buffers:\n\tBuffer 1:\n\t\tSize: 1.22GiB\n\t\tXLA Label: copy\n\t\tShape: f32[512,640000]\n\t\t==========================\n\n\tBuffer 2:\n\t\tSize: 1.22GiB\n\t\tXLA Label: copy\n\t\tShape: f32[512,640000]\n\t\t==========================\n\n\tBuffer 3:\n\t\tSize: 1.22GiB\n\t\tOperator: op_name=\"XLA_Args\"\n\t\tEntry Parameter Subshape: f32[512,640000]\n\t\t==========================\n\n\tBuffer 4:\n\t\tSize: 1.22GiB\n\t\tOperator: op_name=\"XLA_Args\"\n\t\tEntry Parameter Subshape: f32[512,640000]\n\t\t==========================\n\n\tBuffer 5:\n\t\tSize: 1.22GiB\n\t\tOperator: op_name=\"XLA_Args\"\n\t\tEntry Parameter Subshape: f32[512,640000]\n\t\t==========================\n\n\tBuffer 6:\n\t\tSize: 1.22GiB\n\t\tOperator: op_name=\"XLA_Args\"\n\t\tEntry Parameter Subshape: f32[512,640000]\n\t\t==========================\n\n\tBuffer 7:\n\t\tSize: 24B\n\t\tOperator: op_type=\"AssignSubVariableOp\" op_name=\"AssignSubVariableOp\" source_file=\"/usr/local/lib/python3.10/dist-packages/tensorflow/python/framework/ops.py\" source_line=1161\n\t\tXLA Label: fusion\n\t\tShape: (f32[512,640000], f32[512,640000], f32[512,640000])\n\t\t==========================\n\n\tBuffer 8:\n\t\tSize: 8B\n\t\tOperator: op_name=\"XLA_Args\"\n\t\tEntry Parameter Subshape: s64[]\n\t\t==========================\n\n\tBuffer 9:\n\t\tSize: 4B\n\t\tOperator: op_type=\"Pow\" op_name=\"Pow_1\" source_file=\"/usr/local/lib/python3.10/dist-packages/tensorflow/python/framework/ops.py\" source_line=1161\n\t\tXLA Label: fusion\n\t\tShape: f32[]\n\t\t==========================\n\n\tBuffer 10:\n\t\tSize: 4B\n\t\tOperator: op_type=\"Pow\" op_name=\"Pow\" source_file=\"/usr/local/lib/python3.10/dist-packages/tensorflow/python/framework/ops.py\" source_line=1161\n\t\tXLA Label: fusion\n\t\tShape: f32[]\n\t\t==========================\n\n\tBuffer 11:\n\t\tSize: 4B\n\t\tOperator: op_name=\"XLA_Args\"\n\t\tEntry Parameter Subshape: f32[]\n\t\t==========================\n\n\n\t [[{{node Adam/StatefulPartitionedCall_14}}]]\nHint: If you want to see a list of allocated tensors when OOM happens, add report_tensor_allocations_upon_oom to RunOptions for current allocation info. This isn't available when running in Eager mode.\n [Op:__inference_train_function_3819]"
          ]
        }
      ]
    },
    {
      "cell_type": "code",
      "source": [
        "plt.plot(history.history['loss'], label='Training Loss')\n",
        "plt.plot(history.history['val_loss'], label='Validation Loss')\n",
        "plt.title('Training and Validation Loss')\n",
        "plt.xlabel('Epochs')\n",
        "plt.ylabel('Loss')\n",
        "plt.legend()\n",
        "plt.show()"
      ],
      "metadata": {
        "colab": {
          "base_uri": "https://localhost:8080/",
          "height": 472
        },
        "id": "7JQ2TMVx9PCh",
        "outputId": "485e83a2-eb7d-4770-869b-9e6ea36b9b00"
      },
      "execution_count": null,
      "outputs": [
        {
          "output_type": "display_data",
          "data": {
            "text/plain": [
              "<Figure size 640x480 with 1 Axes>"
            ],
            "image/png": "[encoded data removed]"
          },
          "metadata": {}
        }
      ]
    },
    {
      "cell_type": "code",
      "source": [
        "for i in range(5):\n",
        "  reconstructed_images = autoencoder.predict(np.expand_dims(images_data[i],0))\n",
        "  cv2_imshow(reconstructed_images[0])\n"
      ],
      "metadata": {
        "colab": {
          "base_uri": "https://localhost:8080/",
          "height": 504
        },
        "id": "TQfEcejg9Q_C",
        "outputId": "81ef03c1-c4e9-427a-8f5d-e8ccecc2670d"
      },
      "execution_count": null,
      "outputs": [
        {
          "output_type": "stream",
          "name": "stdout",
          "text": [
            "1/1 [==============================] - 0s 25ms/step\n"
          ]
        },
        {
          "output_type": "display_data",
          "data": {
            "text/plain": [
              "<PIL.Image.Image image mode=RGB size=80x80>"
            ],
            "image/png": "[encoded data removed]"
          },
          "metadata": {}
        },
        {
          "output_type": "stream",
          "name": "stdout",
          "text": [
            "1/1 [==============================] - 0s 19ms/step\n"
          ]
        },
        {
          "output_type": "display_data",
          "data": {
            "text/plain": [
              "<PIL.Image.Image image mode=RGB size=80x80>"
            ],
            "image/png": "[encoded data removed]"
          },
          "metadata": {}
        },
        {
          "output_type": "stream",
          "name": "stdout",
          "text": [
            "1/1 [==============================] - 0s 19ms/step\n"
          ]
        },
        {
          "output_type": "display_data",
          "data": {
            "text/plain": [
              "<PIL.Image.Image image mode=RGB size=80x80>"
            ],
            "image/png": "[encoded data removed]"
          },
          "metadata": {}
        },
        {
          "output_type": "stream",
          "name": "stdout",
          "text": [
            "1/1 [==============================] - 0s 19ms/step\n"
          ]
        },
        {
          "output_type": "display_data",
          "data": {
            "text/plain": [
              "<PIL.Image.Image image mode=RGB size=80x80>"
            ],
            "image/png": "[encoded data removed]"
          },
          "metadata": {}
        },
        {
          "output_type": "stream",
          "name": "stdout",
          "text": [
            "1/1 [==============================] - 0s 22ms/step\n"
          ]
        },
        {
          "output_type": "display_data",
          "data": {
            "text/plain": [
              "<PIL.Image.Image image mode=RGB size=80x80>"
            ],
            "image/png": "[encoded data removed]"
          },
          "metadata": {}
        }
      ]
    },
    {
      "cell_type": "code",
      "source": [],
      "metadata": {
        "id": "kxtUaFipBP1U"
      },
      "execution_count": null,
      "outputs": []
    }
  ]
}