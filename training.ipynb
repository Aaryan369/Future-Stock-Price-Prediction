{
  "cells": [
    {
      "cell_type": "code",
      "execution_count": 28,
      "metadata": {
        "id": "0wLHjTRGPBmb"
      },
      "outputs": [],
      "source": [
        "root_path = \"/content/drive/MyDrive/Colab Notebooks/CS583 Project/\""
      ]
    },
    {
      "cell_type": "code",
      "execution_count": 76,
      "metadata": {
        "id": "h97G-dqPPLnn"
      },
      "outputs": [],
      "source": [
        "import pandas as pd\n",
        "import numpy as np\n",
        "import matplotlib.pyplot as plt\n",
        "from tqdm import tqdm\n",
        "import time\n",
        "\n",
        "from sklearn.model_selection import train_test_split\n",
        "from sklearn.preprocessing import LabelEncoder\n",
        "from sklearn.metrics import classification_report\n",
        "\n",
        "import tensorflow as tf\n",
        "from tensorflow.keras.preprocessing.image import load_img, img_to_array\n",
        "from tensorflow.keras.models import Sequential\n",
        "from tensorflow.keras.layers import Conv2D, MaxPooling2D, Flatten, Dense\n",
        "from tensorflow.keras.callbacks import EarlyStopping\n"
      ]
    },
    {
      "cell_type": "code",
      "execution_count": 3,
      "metadata": {
        "colab": {
          "base_uri": "https://localhost:8080/"
        },
        "id": "HBH0nW1ePOCi",
        "outputId": "a5cd13d7-19dc-4011-abf2-bd962501bc15"
      },
      "outputs": [
        {
          "data": {
            "text/plain": [
              "[PhysicalDevice(name='/physical_device:CPU:0', device_type='CPU'),\n",
              " PhysicalDevice(name='/physical_device:GPU:0', device_type='GPU')]"
            ]
          },
          "execution_count": 3,
          "metadata": {},
          "output_type": "execute_result"
        }
      ],
      "source": [
        "tf.config.list_physical_devices()"
      ]
    },
    {
      "cell_type": "code",
      "execution_count": 29,
      "metadata": {
        "colab": {
          "base_uri": "https://localhost:8080/",
          "height": 206
        },
        "id": "vGybFakwPZzZ",
        "outputId": "21be47c1-10e6-4714-d353-3f4a5e2b6886"
      },
      "outputs": [
        {
          "data": {
            "text/html": [
              "\n",
              "  <div id=\"df-81683576-8b50-40e5-9346-636c37103e53\" class=\"colab-df-container\">\n",
              "    <div>\n",
              "<style scoped>\n",
              "    .dataframe tbody tr th:only-of-type {\n",
              "        vertical-align: middle;\n",
              "    }\n",
              "\n",
              "    .dataframe tbody tr th {\n",
              "        vertical-align: top;\n",
              "    }\n",
              "\n",
              "    .dataframe thead th {\n",
              "        text-align: right;\n",
              "    }\n",
              "</style>\n",
              "<table border=\"1\" class=\"dataframe\">\n",
              "  <thead>\n",
              "    <tr style=\"text-align: right;\">\n",
              "      <th></th>\n",
              "      <th>Image_Path</th>\n",
              "      <th>Start_Date</th>\n",
              "      <th>End_Date</th>\n",
              "      <th>Prediction</th>\n",
              "    </tr>\n",
              "  </thead>\n",
              "  <tbody>\n",
              "    <tr>\n",
              "      <th>0</th>\n",
              "      <td>img_data/image_0.png</td>\n",
              "      <td>14-11-2013</td>\n",
              "      <td>28-01-2014</td>\n",
              "      <td>Low</td>\n",
              "    </tr>\n",
              "    <tr>\n",
              "      <th>1</th>\n",
              "      <td>img_data/image_10.png</td>\n",
              "      <td>29-11-2013</td>\n",
              "      <td>11-02-2014</td>\n",
              "      <td>Low</td>\n",
              "    </tr>\n",
              "    <tr>\n",
              "      <th>2</th>\n",
              "      <td>img_data/image_20.png</td>\n",
              "      <td>13-12-2013</td>\n",
              "      <td>26-02-2014</td>\n",
              "      <td>High</td>\n",
              "    </tr>\n",
              "    <tr>\n",
              "      <th>3</th>\n",
              "      <td>img_data/image_30.png</td>\n",
              "      <td>30-12-2013</td>\n",
              "      <td>12-03-2014</td>\n",
              "      <td>Low</td>\n",
              "    </tr>\n",
              "    <tr>\n",
              "      <th>4</th>\n",
              "      <td>img_data/image_40.png</td>\n",
              "      <td>14-01-2014</td>\n",
              "      <td>26-03-2014</td>\n",
              "      <td>Low</td>\n",
              "    </tr>\n",
              "  </tbody>\n",
              "</table>\n",
              "</div>\n",
              "    <div class=\"colab-df-buttons\">\n",
              "\n",
              "  <div class=\"colab-df-container\">\n",
              "    <button class=\"colab-df-convert\" onclick=\"convertToInteractive('df-81683576-8b50-40e5-9346-636c37103e53')\"\n",
              "            title=\"Convert this dataframe to an interactive table.\"\n",
              "            style=\"display:none;\">\n",
              "\n",
              "  <svg xmlns=\"http://www.w3.org/2000/svg\" height=\"24px\" viewBox=\"0 -960 960 960\">\n",
              "    <path d=\"M120-120v-720h720v720H120Zm60-500h600v-160H180v160Zm220 220h160v-160H400v160Zm0 220h160v-160H400v160ZM180-400h160v-160H180v160Zm440 0h160v-160H620v160ZM180-180h160v-160H180v160Zm440 0h160v-160H620v160Z\"/>\n",
              "  </svg>\n",
              "    </button>\n",
              "\n",
              "  <style>\n",
              "    .colab-df-container {\n",
              "      display:flex;\n",
              "      gap: 12px;\n",
              "    }\n",
              "\n",
              "    .colab-df-convert {\n",
              "      background-color: #E8F0FE;\n",
              "      border: none;\n",
              "      border-radius: 50%;\n",
              "      cursor: pointer;\n",
              "      display: none;\n",
              "      fill: #1967D2;\n",
              "      height: 32px;\n",
              "      padding: 0 0 0 0;\n",
              "      width: 32px;\n",
              "    }\n",
              "\n",
              "    .colab-df-convert:hover {\n",
              "      background-color: #E2EBFA;\n",
              "      box-shadow: 0px 1px 2px rgba(60, 64, 67, 0.3), 0px 1px 3px 1px rgba(60, 64, 67, 0.15);\n",
              "      fill: #174EA6;\n",
              "    }\n",
              "\n",
              "    .colab-df-buttons div {\n",
              "      margin-bottom: 4px;\n",
              "    }\n",
              "\n",
              "    [theme=dark] .colab-df-convert {\n",
              "      background-color: #3B4455;\n",
              "      fill: #D2E3FC;\n",
              "    }\n",
              "\n",
              "    [theme=dark] .colab-df-convert:hover {\n",
              "      background-color: #434B5C;\n",
              "      box-shadow: 0px 1px 3px 1px rgba(0, 0, 0, 0.15);\n",
              "      filter: drop-shadow(0px 1px 2px rgba(0, 0, 0, 0.3));\n",
              "      fill: #FFFFFF;\n",
              "    }\n",
              "  </style>\n",
              "\n",
              "    <script>\n",
              "      const buttonEl =\n",
              "        document.querySelector('#df-81683576-8b50-40e5-9346-636c37103e53 button.colab-df-convert');\n",
              "      buttonEl.style.display =\n",
              "        google.colab.kernel.accessAllowed ? 'block' : 'none';\n",
              "\n",
              "      async function convertToInteractive(key) {\n",
              "        const element = document.querySelector('#df-81683576-8b50-40e5-9346-636c37103e53');\n",
              "        const dataTable =\n",
              "          await google.colab.kernel.invokeFunction('convertToInteractive',\n",
              "                                                    [key], {});\n",
              "        if (!dataTable) return;\n",
              "\n",
              "        const docLinkHtml = 'Like what you see? Visit the ' +\n",
              "          '<a target=\"_blank\" href=https://colab.research.google.com/notebooks/data_table.ipynb>data table notebook</a>'\n",
              "          + ' to learn more about interactive tables.';\n",
              "        element.innerHTML = '';\n",
              "        dataTable['output_type'] = 'display_data';\n",
              "        await google.colab.output.renderOutput(dataTable, element);\n",
              "        const docLink = document.createElement('div');\n",
              "        docLink.innerHTML = docLinkHtml;\n",
              "        element.appendChild(docLink);\n",
              "      }\n",
              "    </script>\n",
              "  </div>\n",
              "\n",
              "\n",
              "<div id=\"df-653c5a4e-8f82-4f76-bd70-0adc7b429c64\">\n",
              "  <button class=\"colab-df-quickchart\" onclick=\"quickchart('df-653c5a4e-8f82-4f76-bd70-0adc7b429c64')\"\n",
              "            title=\"Suggest charts\"\n",
              "            style=\"display:none;\">\n",
              "\n",
              "<svg xmlns=\"http://www.w3.org/2000/svg\" height=\"24px\"viewBox=\"0 0 24 24\"\n",
              "     width=\"24px\">\n",
              "    <g>\n",
              "        <path d=\"M19 3H5c-1.1 0-2 .9-2 2v14c0 1.1.9 2 2 2h14c1.1 0 2-.9 2-2V5c0-1.1-.9-2-2-2zM9 17H7v-7h2v7zm4 0h-2V7h2v10zm4 0h-2v-4h2v4z\"/>\n",
              "    </g>\n",
              "</svg>\n",
              "  </button>\n",
              "\n",
              "<style>\n",
              "  .colab-df-quickchart {\n",
              "      --bg-color: #E8F0FE;\n",
              "      --fill-color: #1967D2;\n",
              "      --hover-bg-color: #E2EBFA;\n",
              "      --hover-fill-color: #174EA6;\n",
              "      --disabled-fill-color: #AAA;\n",
              "      --disabled-bg-color: #DDD;\n",
              "  }\n",
              "\n",
              "  [theme=dark] .colab-df-quickchart {\n",
              "      --bg-color: #3B4455;\n",
              "      --fill-color: #D2E3FC;\n",
              "      --hover-bg-color: #434B5C;\n",
              "      --hover-fill-color: #FFFFFF;\n",
              "      --disabled-bg-color: #3B4455;\n",
              "      --disabled-fill-color: #666;\n",
              "  }\n",
              "\n",
              "  .colab-df-quickchart {\n",
              "    background-color: var(--bg-color);\n",
              "    border: none;\n",
              "    border-radius: 50%;\n",
              "    cursor: pointer;\n",
              "    display: none;\n",
              "    fill: var(--fill-color);\n",
              "    height: 32px;\n",
              "    padding: 0;\n",
              "    width: 32px;\n",
              "  }\n",
              "\n",
              "  .colab-df-quickchart:hover {\n",
              "    background-color: var(--hover-bg-color);\n",
              "    box-shadow: 0 1px 2px rgba(60, 64, 67, 0.3), 0 1px 3px 1px rgba(60, 64, 67, 0.15);\n",
              "    fill: var(--button-hover-fill-color);\n",
              "  }\n",
              "\n",
              "  .colab-df-quickchart-complete:disabled,\n",
              "  .colab-df-quickchart-complete:disabled:hover {\n",
              "    background-color: var(--disabled-bg-color);\n",
              "    fill: var(--disabled-fill-color);\n",
              "    box-shadow: none;\n",
              "  }\n",
              "\n",
              "  .colab-df-spinner {\n",
              "    border: 2px solid var(--fill-color);\n",
              "    border-color: transparent;\n",
              "    border-bottom-color: var(--fill-color);\n",
              "    animation:\n",
              "      spin 1s steps(1) infinite;\n",
              "  }\n",
              "\n",
              "  @keyframes spin {\n",
              "    0% {\n",
              "      border-color: transparent;\n",
              "      border-bottom-color: var(--fill-color);\n",
              "      border-left-color: var(--fill-color);\n",
              "    }\n",
              "    20% {\n",
              "      border-color: transparent;\n",
              "      border-left-color: var(--fill-color);\n",
              "      border-top-color: var(--fill-color);\n",
              "    }\n",
              "    30% {\n",
              "      border-color: transparent;\n",
              "      border-left-color: var(--fill-color);\n",
              "      border-top-color: var(--fill-color);\n",
              "      border-right-color: var(--fill-color);\n",
              "    }\n",
              "    40% {\n",
              "      border-color: transparent;\n",
              "      border-right-color: var(--fill-color);\n",
              "      border-top-color: var(--fill-color);\n",
              "    }\n",
              "    60% {\n",
              "      border-color: transparent;\n",
              "      border-right-color: var(--fill-color);\n",
              "    }\n",
              "    80% {\n",
              "      border-color: transparent;\n",
              "      border-right-color: var(--fill-color);\n",
              "      border-bottom-color: var(--fill-color);\n",
              "    }\n",
              "    90% {\n",
              "      border-color: transparent;\n",
              "      border-bottom-color: var(--fill-color);\n",
              "    }\n",
              "  }\n",
              "</style>\n",
              "\n",
              "  <script>\n",
              "    async function quickchart(key) {\n",
              "      const quickchartButtonEl =\n",
              "        document.querySelector('#' + key + ' button');\n",
              "      quickchartButtonEl.disabled = true;  // To prevent multiple clicks.\n",
              "      quickchartButtonEl.classList.add('colab-df-spinner');\n",
              "      try {\n",
              "        const charts = await google.colab.kernel.invokeFunction(\n",
              "            'suggestCharts', [key], {});\n",
              "      } catch (error) {\n",
              "        console.error('Error during call to suggestCharts:', error);\n",
              "      }\n",
              "      quickchartButtonEl.classList.remove('colab-df-spinner');\n",
              "      quickchartButtonEl.classList.add('colab-df-quickchart-complete');\n",
              "    }\n",
              "    (() => {\n",
              "      let quickchartButtonEl =\n",
              "        document.querySelector('#df-653c5a4e-8f82-4f76-bd70-0adc7b429c64 button');\n",
              "      quickchartButtonEl.style.display =\n",
              "        google.colab.kernel.accessAllowed ? 'block' : 'none';\n",
              "    })();\n",
              "  </script>\n",
              "</div>\n",
              "    </div>\n",
              "  </div>\n"
            ],
            "text/plain": [
              "              Image_Path  Start_Date    End_Date Prediction\n",
              "0   img_data/image_0.png  14-11-2013  28-01-2014        Low\n",
              "1  img_data/image_10.png  29-11-2013  11-02-2014        Low\n",
              "2  img_data/image_20.png  13-12-2013  26-02-2014       High\n",
              "3  img_data/image_30.png  30-12-2013  12-03-2014        Low\n",
              "4  img_data/image_40.png  14-01-2014  26-03-2014        Low"
            ]
          },
          "execution_count": 29,
          "metadata": {},
          "output_type": "execute_result"
        }
      ],
      "source": [
        "image_df = pd.read_csv(root_path+'image_df.csv')\n",
        "image_df.head()"
      ]
    },
    {
      "cell_type": "code",
      "execution_count": 6,
      "metadata": {
        "id": "2pkT1dVIQs-H"
      },
      "outputs": [],
      "source": [
        "image_paths = image_df['Image_Path']\n",
        "labels = image_df['Prediction']\n"
      ]
    },
    {
      "cell_type": "code",
      "execution_count": 33,
      "metadata": {
        "colab": {
          "base_uri": "https://localhost:8080/"
        },
        "id": "Gm5hUhvyQ7QD",
        "outputId": "71c2959b-d78c-4186-b582-226234e0e251"
      },
      "outputs": [
        {
          "name": "stdout",
          "output_type": "stream",
          "text": [
            "(288, 576, 1)\n"
          ]
        }
      ],
      "source": [
        "#checking image height and width\n",
        "img = load_img(root_path+image_paths[0], color_mode='grayscale')\n",
        "print(img_to_array(img).shape)"
      ]
    },
    {
      "cell_type": "code",
      "execution_count": 41,
      "metadata": {
        "colab": {
          "base_uri": "https://localhost:8080/"
        },
        "id": "Cj58QmTsQ2sp",
        "outputId": "6e6947e8-8849-44b3-9208-b98f9966d603"
      },
      "outputs": [
        {
          "name": "stderr",
          "output_type": "stream",
          "text": [
            "100%|██████████| 247/247 [00:01<00:00, 192.64it/s]\n"
          ]
        }
      ],
      "source": [
        "images = []\n",
        "for path in tqdm(image_paths):\n",
        "    img = load_img(root_path + path, color_mode='grayscale', target_size=(288, 576))  # Setting desired height and width based on above cell\n",
        "    img_array = img_to_array(img)\n",
        "    images.append(img_array)\n"
      ]
    },
    {
      "cell_type": "code",
      "execution_count": 68,
      "metadata": {
        "id": "99MpielHS0Td"
      },
      "outputs": [],
      "source": [
        "images = np.array(images)\n",
        "labels = np.array([1 if l==\"High\" else 0 for l in labels]) #converting labels in binary"
      ]
    },
    {
      "cell_type": "code",
      "execution_count": 69,
      "metadata": {
        "colab": {
          "base_uri": "https://localhost:8080/"
        },
        "id": "b_MvJr0FS-0i",
        "outputId": "64885d61-b3f2-49e1-be76-6f932b0fc8ef"
      },
      "outputs": [
        {
          "name": "stdout",
          "output_type": "stream",
          "text": [
            "(197, 288, 576, 1) (50, 288, 576, 1)\n"
          ]
        }
      ],
      "source": [
        "#train test split\n",
        "train_images, val_images, train_labels, val_labels = train_test_split(images, labels, test_size=0.2, random_state=369)\n",
        "print(train_images.shape, val_images.shape)"
      ]
    },
    {
      "cell_type": "code",
      "execution_count": 70,
      "metadata": {
        "id": "wS1BUBzlTOWc"
      },
      "outputs": [],
      "source": [
        "model = Sequential([\n",
        "    Conv2D(32, (3, 3), activation='relu', input_shape=(288, 576, 1)),\n",
        "    MaxPooling2D((2, 2)),\n",
        "    Conv2D(64, (3, 3), activation='relu'),\n",
        "    MaxPooling2D((2, 2)),\n",
        "    Flatten(),\n",
        "    Dense(128, activation='relu'),\n",
        "    Dense(1, activation='sigmoid')  # Binary classification output\n",
        "])\n"
      ]
    },
    {
      "cell_type": "code",
      "execution_count": 71,
      "metadata": {
        "id": "O0i5xtMYTssr"
      },
      "outputs": [],
      "source": [
        "model.compile(optimizer='adam', loss='binary_crossentropy', metrics=['accuracy'])"
      ]
    },
    {
      "cell_type": "code",
      "execution_count": 73,
      "metadata": {
        "colab": {
          "base_uri": "https://localhost:8080/"
        },
        "id": "lLpsa52CUGVZ",
        "outputId": "59666521-3982-4f4b-9a0d-e95c94e8c0b0"
      },
      "outputs": [
        {
          "name": "stdout",
          "output_type": "stream",
          "text": [
            "Epoch 1/20\n",
            "7/7 [==============================] - 1s 124ms/step - loss: 3.5056e-04 - accuracy: 1.0000 - val_loss: 1.9282 - val_accuracy: 0.5000\n",
            "Epoch 2/20\n",
            "7/7 [==============================] - 1s 121ms/step - loss: 0.0128 - accuracy: 0.9898 - val_loss: 2.5776 - val_accuracy: 0.4000\n",
            "Epoch 3/20\n",
            "7/7 [==============================] - 1s 120ms/step - loss: 7.4158e-04 - accuracy: 1.0000 - val_loss: 2.3809 - val_accuracy: 0.5800\n",
            "Epoch 4/20\n",
            "7/7 [==============================] - 1s 120ms/step - loss: 3.2787e-04 - accuracy: 1.0000 - val_loss: 2.1060 - val_accuracy: 0.5800\n",
            "Epoch 5/20\n",
            "7/7 [==============================] - 1s 131ms/step - loss: 3.0481e-06 - accuracy: 1.0000 - val_loss: 2.0088 - val_accuracy: 0.6000\n",
            "Epoch 6/20\n",
            "7/7 [==============================] - 1s 143ms/step - loss: 2.5817e-06 - accuracy: 1.0000 - val_loss: 2.0276 - val_accuracy: 0.5800\n",
            "Epoch 7/20\n",
            "7/7 [==============================] - 1s 128ms/step - loss: 1.2539e-06 - accuracy: 1.0000 - val_loss: 2.0450 - val_accuracy: 0.5800\n",
            "Epoch 8/20\n",
            "7/7 [==============================] - 1s 140ms/step - loss: 7.8149e-07 - accuracy: 1.0000 - val_loss: 2.0563 - val_accuracy: 0.5800\n",
            "Epoch 9/20\n",
            "7/7 [==============================] - 1s 125ms/step - loss: 5.5656e-07 - accuracy: 1.0000 - val_loss: 2.0630 - val_accuracy: 0.5800\n",
            "Epoch 10/20\n",
            "7/7 [==============================] - 1s 141ms/step - loss: 4.3629e-07 - accuracy: 1.0000 - val_loss: 2.0679 - val_accuracy: 0.5800\n",
            "Epoch 11/20\n",
            "7/7 [==============================] - 1s 140ms/step - loss: 3.6796e-07 - accuracy: 1.0000 - val_loss: 2.0715 - val_accuracy: 0.5800\n",
            "Epoch 12/20\n",
            "7/7 [==============================] - 1s 121ms/step - loss: 3.2495e-07 - accuracy: 1.0000 - val_loss: 2.0749 - val_accuracy: 0.5800\n",
            "Epoch 13/20\n",
            "7/7 [==============================] - 1s 118ms/step - loss: 2.8742e-07 - accuracy: 1.0000 - val_loss: 2.0793 - val_accuracy: 0.5800\n",
            "Epoch 14/20\n",
            "7/7 [==============================] - 1s 119ms/step - loss: 2.5385e-07 - accuracy: 1.0000 - val_loss: 2.0825 - val_accuracy: 0.5800\n",
            "Epoch 15/20\n",
            "7/7 [==============================] - 1s 119ms/step - loss: 2.3428e-07 - accuracy: 1.0000 - val_loss: 2.0859 - val_accuracy: 0.6000\n",
            "Epoch 16/20\n",
            "7/7 [==============================] - 1s 119ms/step - loss: 2.1524e-07 - accuracy: 1.0000 - val_loss: 2.0884 - val_accuracy: 0.6000\n",
            "Epoch 17/20\n",
            "7/7 [==============================] - 1s 120ms/step - loss: 2.0103e-07 - accuracy: 1.0000 - val_loss: 2.0907 - val_accuracy: 0.6000\n",
            "Epoch 18/20\n",
            "7/7 [==============================] - 1s 119ms/step - loss: 1.8700e-07 - accuracy: 1.0000 - val_loss: 2.0927 - val_accuracy: 0.6000\n",
            "Epoch 19/20\n",
            "7/7 [==============================] - 1s 120ms/step - loss: 1.7530e-07 - accuracy: 1.0000 - val_loss: 2.0947 - val_accuracy: 0.6000\n",
            "Epoch 20/20\n",
            "7/7 [==============================] - 1s 120ms/step - loss: 1.6536e-07 - accuracy: 1.0000 - val_loss: 2.0961 - val_accuracy: 0.6000\n"
          ]
        }
      ],
      "source": [
        "history = model.fit(train_images, train_labels, epochs=20, batch_size=32, validation_data=(val_images, val_labels))\n"
      ]
    },
    {
      "cell_type": "code",
      "execution_count": 75,
      "metadata": {
        "colab": {
          "base_uri": "https://localhost:8080/",
          "height": 564
        },
        "id": "tBYKbJUWUhdA",
        "outputId": "92acaceb-ed17-468a-c4dd-343c76d72129"
      },
      "outputs": [
        {
          "data": {
            "image/png": "[encoded data removed]",
            "text/plain": [
              "<Figure size 800x600 with 1 Axes>"
            ]
          },
          "metadata": {},
          "output_type": "display_data"
        }
      ],
      "source": [
        "plt.figure(figsize=(8, 6))\n",
        "plt.plot(history.history['loss'], label='Training Loss')\n",
        "plt.plot(history.history['val_loss'], label='Validation Loss')\n",
        "plt.title('Training and Validation Loss')\n",
        "plt.xlabel('Epochs')\n",
        "plt.ylabel('Loss')\n",
        "plt.legend()\n",
        "plt.show()"
      ]
    },
    {
      "cell_type": "code",
      "execution_count": 83,
      "metadata": {
        "colab": {
          "base_uri": "https://localhost:8080/"
        },
        "id": "RMGwprZXWK2K",
        "outputId": "37d084d6-a83e-4eef-d74c-50f41bde17aa"
      },
      "outputs": [
        {
          "name": "stdout",
          "output_type": "stream",
          "text": [
            "2/2 [==============================] - 0s 37ms/step\n",
            "              precision    recall  f1-score   support\n",
            "\n",
            "           0       0.50      1.00      0.67        25\n",
            "           1       0.00      0.00      0.00        25\n",
            "\n",
            "    accuracy                           0.50        50\n",
            "   macro avg       0.25      0.50      0.33        50\n",
            "weighted avg       0.25      0.50      0.33        50\n",
            "\n"
          ]
        },
        {
          "name": "stderr",
          "output_type": "stream",
          "text": [
            "/usr/local/lib/python3.10/dist-packages/sklearn/metrics/_classification.py:1344: UndefinedMetricWarning: Precision and F-score are ill-defined and being set to 0.0 in labels with no predicted samples. Use `zero_division` parameter to control this behavior.\n",
            "  _warn_prf(average, modifier, msg_start, len(result))\n",
            "/usr/local/lib/python3.10/dist-packages/sklearn/metrics/_classification.py:1344: UndefinedMetricWarning: Precision and F-score are ill-defined and being set to 0.0 in labels with no predicted samples. Use `zero_division` parameter to control this behavior.\n",
            "  _warn_prf(average, modifier, msg_start, len(result))\n",
            "/usr/local/lib/python3.10/dist-packages/sklearn/metrics/_classification.py:1344: UndefinedMetricWarning: Precision and F-score are ill-defined and being set to 0.0 in labels with no predicted samples. Use `zero_division` parameter to control this behavior.\n",
            "  _warn_prf(average, modifier, msg_start, len(result))\n"
          ]
        }
      ],
      "source": [
        "\n",
        "# Make predictions\n",
        "predictions = model.predict(val_images)\n",
        "predicted_classes = np.argmax(predictions, axis=1)\n",
        "\n",
        "# Print classification report\n",
        "print(classification_report(val_labels, predicted_classes))\n"
      ]
    },
    {
      "cell_type": "code",
      "execution_count": null,
      "metadata": {
        "id": "rdF_arV0W949"
      },
      "outputs": [],
      "source": []
    }
  ],
  "metadata": {
    "accelerator": "GPU",
    "colab": {
      "gpuType": "T4",
      "provenance": []
    },
    "kernelspec": {
      "display_name": "Python 3",
      "name": "python3"
    },
    "language_info": {
      "name": "python",
      "version": "3.8.5"
    }
  },
  "nbformat": 4,
  "nbformat_minor": 0
}
